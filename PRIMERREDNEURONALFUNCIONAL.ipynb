{
  "nbformat": 4,
  "nbformat_minor": 0,
  "metadata": {
    "colab": {
      "provenance": []
    },
    "kernelspec": {
      "name": "python3",
      "display_name": "Python 3"
    },
    "language_info": {
      "name": "python"
    }
  },
  "cells": [
    {
      "cell_type": "code",
      "execution_count": null,
      "metadata": {
        "id": "wdpUucl40ycW"
      },
      "outputs": [],
      "source": [
        "import torch  # this is the baseline functionality of Pytorch\n",
        "import matplotlib.pyplot as plt"
      ]
    },
    {
      "cell_type": "code",
      "source": [
        "import pandas as pd"
      ],
      "metadata": {
        "id": "A2iOnzFGtC7f"
      },
      "execution_count": null,
      "outputs": []
    },
    {
      "cell_type": "code",
      "source": [
        "from torchvision import datasets # a module that let's you load popular datasets\n",
        "                                 # for training a neural network"
      ],
      "metadata": {
        "id": "14gPvlLbSdbv"
      },
      "execution_count": null,
      "outputs": []
    },
    {
      "cell_type": "code",
      "source": [
        "import torchvision.transforms as transforms  # The data in datasets is not\n",
        "                                  # always in the format we need. This module\n",
        "                                  #let's you easily modify\n",
        "\n",
        "import torchvision.utils as vision_utils  # submodule with useful functions for\n",
        "                                  # handling images\n",
        "\n",
        "import torch.optim as optim  # submodule wiht different otimization (or learning)\n",
        "                            # algorithms"
      ],
      "metadata": {
        "id": "2lPcVVoHSgwP"
      },
      "execution_count": null,
      "outputs": []
    },
    {
      "cell_type": "code",
      "source": [
        "# Each sample in the dataset is a tuple (image:PIL[1,28,28],label:int)\n",
        "train_ds = datasets.MNIST('../data', train=True, download=True)\n",
        "test_ds = datasets.MNIST('../data', train=False, download=True)"
      ],
      "metadata": {
        "id": "avOhpUSmYLJE"
      },
      "execution_count": null,
      "outputs": []
    },
    {
      "cell_type": "code",
      "source": [
        "print(train_ds)\n",
        "print(type(train_ds))"
      ],
      "metadata": {
        "colab": {
          "base_uri": "https://localhost:8080/"
        },
        "id": "fhExWnPteuhB",
        "outputId": "c8049e7d-95f4-4034-aade-5c2d446bc5d9"
      },
      "execution_count": null,
      "outputs": [
        {
          "output_type": "stream",
          "name": "stdout",
          "text": [
            "Dataset MNIST\n",
            "    Number of datapoints: 60000\n",
            "    Root location: ../data\n",
            "    Split: Train\n",
            "<class 'torchvision.datasets.mnist.MNIST'>\n"
          ]
        }
      ]
    },
    {
      "cell_type": "code",
      "source": [
        "print('The number of images in the set is:')\n",
        "print(len(train_ds))\n",
        "\n",
        "print('The type of the first element in train_ds is:')\n",
        "print(type(train_ds[0]))"
      ],
      "metadata": {
        "colab": {
          "base_uri": "https://localhost:8080/"
        },
        "id": "tDfhfe-SfNia",
        "outputId": "56c20b30-8638-4b1b-dc4d-2fbed7166c80"
      },
      "execution_count": null,
      "outputs": [
        {
          "output_type": "stream",
          "name": "stdout",
          "text": [
            "The number of images in the set is:\n",
            "60000\n",
            "The type of the first element in train_ds is:\n",
            "<class 'tuple'>\n"
          ]
        }
      ]
    },
    {
      "cell_type": "code",
      "source": [
        "print('The number of elements in the first tuple of train_ds is:')\n",
        "print(len(train_ds[0]))\n",
        "\n",
        "print('\\nThe first element in the first tuple of train_ds is of type:')  # \"\\n\" prints a space before\n",
        "print(type(train_ds[0][0]))\n",
        "\n",
        "print('\\nThe second element in the first tuple of train_ds is of type:') # \"\\n\" prints a space before\n",
        "print(type(train_ds[0][1]))"
      ],
      "metadata": {
        "colab": {
          "base_uri": "https://localhost:8080/"
        },
        "id": "uy1o6zR-MVdz",
        "outputId": "a7e8298c-50c5-4f27-acb1-6242ec9aa129"
      },
      "execution_count": null,
      "outputs": [
        {
          "output_type": "stream",
          "name": "stdout",
          "text": [
            "The number of elements in the first tuple of train_ds is:\n",
            "2\n",
            "\n",
            "The first element in the first tuple of train_ds is of type:\n",
            "<class 'PIL.Image.Image'>\n",
            "\n",
            "The second element in the first tuple of train_ds is of type:\n",
            "<class 'int'>\n"
          ]
        }
      ]
    },
    {
      "cell_type": "code",
      "source": [
        "transform = transforms.ToTensor()\n",
        "\n",
        "train_ds.transform =transform\n",
        "test_ds.transform = transform\n",
        "\n",
        "print('The new type of the first image in train_ds is')\n",
        "print(type(train_ds[0][0]))"
      ],
      "metadata": {
        "colab": {
          "base_uri": "https://localhost:8080/"
        },
        "id": "aBTXukKqYykN",
        "outputId": "037209df-c068-4458-a0a6-7f57b114ecba"
      },
      "execution_count": null,
      "outputs": [
        {
          "output_type": "stream",
          "name": "stdout",
          "text": [
            "The new type of the first image in train_ds is\n",
            "<class 'torch.Tensor'>\n"
          ]
        }
      ]
    },
    {
      "cell_type": "code",
      "source": [
        "print('The type of the first image in the train dataset is: ')\n",
        "print(type(train_ds[0][0]))  # first tuple of the dataset, first element of the tuple\n",
        "\n",
        "print('\\nThe shape attribute of the image Tensor of the train dataset is: ')\n",
        "print(train_ds[0][0].shape)"
      ],
      "metadata": {
        "colab": {
          "base_uri": "https://localhost:8080/"
        },
        "id": "P3BzegNKLhkM",
        "outputId": "3e47eeda-ded7-4a69-89f6-a036a8f26c71"
      },
      "execution_count": null,
      "outputs": [
        {
          "output_type": "stream",
          "name": "stdout",
          "text": [
            "The type of the first image in the train dataset is: \n",
            "<class 'torch.Tensor'>\n",
            "\n",
            "The shape attribute of the image Tensor of the train dataset is: \n",
            "torch.Size([1, 28, 28])\n"
          ]
        }
      ]
    },
    {
      "cell_type": "code",
      "source": [
        "image0 = train_ds[0][0]  # first tuple in the dataset, first element in the tuple\n",
        "print(type(image0))\n",
        "print(image0.shape)\n",
        "\n",
        "print('The first row of the image is:')\n",
        "print(image0[0,0,0:28])  # first channel, first row, columns 0 to 27 (because\n",
        "                         # the last index is not included in the range construct\n",
        "                         # begin:end)\n",
        "\n",
        "print('The first column of the image is:')\n",
        "print(image0[0,0:28,0])  # first channel, rows 0 to 27, first column\n"
      ],
      "metadata": {
        "colab": {
          "base_uri": "https://localhost:8080/"
        },
        "id": "mN0zBCdNk2s-",
        "outputId": "d17af04b-0d9d-40b1-a947-fbdf2435e638"
      },
      "execution_count": null,
      "outputs": [
        {
          "output_type": "stream",
          "name": "stdout",
          "text": [
            "<class 'torch.Tensor'>\n",
            "torch.Size([1, 28, 28])\n",
            "The first row of the image is:\n",
            "tensor([0., 0., 0., 0., 0., 0., 0., 0., 0., 0., 0., 0., 0., 0., 0., 0., 0., 0., 0., 0., 0., 0., 0., 0.,\n",
            "        0., 0., 0., 0.])\n",
            "The first column of the image is:\n",
            "tensor([0., 0., 0., 0., 0., 0., 0., 0., 0., 0., 0., 0., 0., 0., 0., 0., 0., 0., 0., 0., 0., 0., 0., 0.,\n",
            "        0., 0., 0., 0.])\n"
          ]
        }
      ]
    },
    {
      "cell_type": "code",
      "source": [
        "import torch.utils as utils  # note that you can import anywhere in your\n",
        "                                      # code as long as you do it before you use\n",
        "                                      # the module\n",
        "\n",
        "batch_size=32  # numer of elements to retrieve at once from the dataset\n",
        "\n",
        "train_loader = utils.data.DataLoader(train_ds, # dataset to get the data from\n",
        "                                    batch_size=batch_size,\n",
        "                                    shuffle=True)\n",
        "# note that you can use multi-line statements in python\n",
        "\n",
        "test_loader = utils.data.DataLoader(test_ds,\n",
        "                                   batch_size=batch_size,\n",
        "                                   shuffle=True)\n"
      ],
      "metadata": {
        "id": "SIozuqhmZHuN"
      },
      "execution_count": null,
      "outputs": []
    },
    {
      "cell_type": "markdown",
      "source": [
        "So let's get a batch of images and labels from **train_loader** using its iterator:"
      ],
      "metadata": {
        "id": "E4dHtvMdxZhG"
      }
    },
    {
      "cell_type": "code",
      "source": [
        "print('The number of batches in the loader should be:')\n",
        "print(60000/32)\n",
        "\n",
        "print('and it actually is:')\n",
        "print(len(train_loader))  # the loader class allows using python's len()\n",
        "\n",
        "# get an image from the loader\n",
        "loader_iterator = iter(train_loader)\n",
        "images, labels = next(loader_iterator)\n",
        "\n",
        "print('The shape of the images batch Tensor is')\n",
        "print(images.shape)"
      ],
      "metadata": {
        "colab": {
          "base_uri": "https://localhost:8080/"
        },
        "id": "WdwPrnVIvnAK",
        "outputId": "d2fc996f-247d-452f-e82b-d2a548f5a9b7"
      },
      "execution_count": null,
      "outputs": [
        {
          "output_type": "stream",
          "name": "stdout",
          "text": [
            "The number of batches in the loader should be:\n",
            "1875.0\n",
            "and it actually is:\n",
            "1875\n",
            "The shape of the images batch Tensor is\n",
            "torch.Size([32, 1, 28, 28])\n"
          ]
        }
      ]
    },
    {
      "cell_type": "code",
      "source": [
        "n_batches = 10\n",
        "C = 3\n",
        "H = 28\n",
        "W = 28\n",
        "total_pxs = C*H*W\n",
        "shape = (n_batches, C, H, W)  # shape is a python tuple\n",
        "\n",
        "rand_image = torch.rand(shape)  # rand returns a tensor of the given shape\n",
        "\n",
        "print(f'our random image is of shape: {rand_image.shape}')\n",
        "print(f'the flattened image should be of shape [{n_batches}, {total_pxs}]')"
      ],
      "metadata": {
        "colab": {
          "base_uri": "https://localhost:8080/"
        },
        "id": "TRT96sfl2YLA",
        "outputId": "c94190c6-8a3b-4fd7-85ca-7f8e74197dfd"
      },
      "execution_count": null,
      "outputs": [
        {
          "output_type": "stream",
          "name": "stdout",
          "text": [
            "our random image is of shape: torch.Size([10, 3, 28, 28])\n",
            "the flattened image should be of shape [10, 2352]\n"
          ]
        }
      ]
    },
    {
      "cell_type": "code",
      "source": [
        "a_flatten_layer = torch.nn.Flatten(start_dim=1)\n",
        "flattened_image = a_flatten_layer(rand_image)\n",
        "print(f'our flattened image is of shape: {flattened_image.shape}')"
      ],
      "metadata": {
        "colab": {
          "base_uri": "https://localhost:8080/"
        },
        "id": "anSYai2i2wpE",
        "outputId": "f820831e-a33a-4f58-e1d0-5cb9896bf42f"
      },
      "execution_count": null,
      "outputs": [
        {
          "output_type": "stream",
          "name": "stdout",
          "text": [
            "our flattened image is of shape: torch.Size([10, 2352])\n"
          ]
        }
      ]
    },
    {
      "cell_type": "code",
      "source": [
        "N = 15  # number of neurons in the layer. Also, the number of outputs of the layer\n",
        "a_linear_layer = torch.nn.Linear(total_pxs,N)\n",
        "output = a_linear_layer(flattened_image)\n",
        "\n",
        "print('The shape of the output tensor is:')\n",
        "print(output.shape)\n",
        "\n",
        "print('The shape of the weights tensor is [N, total_pxs]:')\n",
        "print(a_linear_layer.weight.shape)"
      ],
      "metadata": {
        "colab": {
          "base_uri": "https://localhost:8080/"
        },
        "id": "JfCPDRm34c-U",
        "outputId": "f1841bd5-b682-40b4-e699-cbb24ec60a64"
      },
      "execution_count": null,
      "outputs": [
        {
          "output_type": "stream",
          "name": "stdout",
          "text": [
            "The shape of the output tensor is:\n",
            "torch.Size([10, 15])\n",
            "The shape of the weights tensor is [N, total_pxs]:\n",
            "torch.Size([15, 2352])\n"
          ]
        }
      ]
    },
    {
      "cell_type": "code",
      "source": [
        "C = 1  # monochromatic images\n",
        "H = 28  # 28 pixels per side\n",
        "W = 28  # 28 pixels per side\n",
        "\n",
        "n_inputs = C*H*W  # total number of inputs is the total number of pixels\n",
        "N1 = 800  # number of neurons in layer 1, the input layer\n",
        "n_outputs = 10  # number of neurons at layer 2, the output layer\n",
        "\n",
        "# let's build our network using a Sequential container\n",
        "net = torch.nn.Sequential(\n",
        "            torch.nn.Flatten(start_dim=1),  # start at 2nd dim to preserve the batch dim\n",
        "            torch.nn.Linear(n_inputs, N1),  # n_inputs connecting to N1 neurons\n",
        "            torch.nn.Linear(N1, n_outputs), # N1 outputs from last layer are inputs to this layer with n_outputs neurons\n",
        "        )"
      ],
      "metadata": {
        "id": "vawqqRI0y-qK"
      },
      "execution_count": null,
      "outputs": []
    },
    {
      "cell_type": "code",
      "source": [
        "criterion = torch.nn.CrossEntropyLoss()"
      ],
      "metadata": {
        "id": "qW2-wQHOSwfe"
      },
      "execution_count": null,
      "outputs": []
    },
    {
      "cell_type": "code",
      "source": [
        "optimizer = optim.SGD(net.parameters(), lr=0.001)"
      ],
      "metadata": {
        "id": "-QE_MHTIW-3c"
      },
      "execution_count": null,
      "outputs": []
    },
    {
      "cell_type": "code",
      "source": [
        "red01=[]\n",
        "n_epochs = 5  # number of epochs we want to train\n",
        "for epoch in range(n_epochs):  # range(int_x) converts an integer into a list from 0 to int_x\n",
        "    for batch_idx, data in enumerate(train_loader):  # consume the dataset, one batch at a time\n",
        "        # get the inputs; data is a tuple of (inputs, labels)\n",
        "        inputs, labels = data\n",
        "\n",
        "        # zero the parameter gradients to get the gradient per batch\n",
        "        optimizer.zero_grad()\n",
        "\n",
        "        # do a forward pass\n",
        "        outputs = net(inputs)\n",
        "\n",
        "        # compute the loss\n",
        "        loss = criterion(outputs, labels)\n",
        "\n",
        "        # do the backpropagation\n",
        "        loss.backward()  # backward is an attribute of every tensor.\n",
        "                         # Thus, you can compute the gradient on any tensor that\n",
        "                         # that results from any differentiable operation.\n",
        "\n",
        "        # Let the parameters with the optimizer\n",
        "        optimizer.step()\n",
        "\n",
        "        # print statistics\n",
        "        if batch_idx % 100 == 0:    # print every 100 mini-batches\n",
        "          print(f'[{epoch}, {batch_idx:5d}] loss: {loss.item():.3f}')\n",
        "        red01.append(loss.item())\n",
        "        plt.plot(red01)\n",
        "        plt.show\n",
        "        model = torch.save(net, 'model1.pth')"
      ],
      "metadata": {
        "colab": {
          "base_uri": "https://localhost:8080/",
          "height": 1000
        },
        "id": "6vike-JlfjMZ",
        "outputId": "d7920a9f-c76a-4dba-952a-4be81c02fbcc"
      },
      "execution_count": null,
      "outputs": [
        {
          "output_type": "stream",
          "name": "stdout",
          "text": [
            "[0,     0] loss: 2.301\n",
            "[0,   100] loss: 2.213\n",
            "[0,   200] loss: 2.200\n",
            "[0,   300] loss: 2.106\n",
            "[0,   400] loss: 2.035\n",
            "[0,   500] loss: 1.868\n",
            "[0,   600] loss: 1.937\n",
            "[0,   700] loss: 1.843\n",
            "[0,   800] loss: 1.788\n",
            "[0,   900] loss: 1.723\n",
            "[0,  1000] loss: 1.784\n",
            "[0,  1100] loss: 1.601\n",
            "[0,  1200] loss: 1.540\n",
            "[0,  1300] loss: 1.566\n",
            "[0,  1400] loss: 1.385\n",
            "[0,  1500] loss: 1.401\n",
            "[0,  1600] loss: 1.457\n",
            "[0,  1700] loss: 1.378\n",
            "[0,  1800] loss: 1.355\n",
            "[1,     0] loss: 1.383\n",
            "[1,   100] loss: 1.289\n",
            "[1,   200] loss: 1.266\n",
            "[1,   300] loss: 1.056\n",
            "[1,   400] loss: 1.167\n",
            "[1,   500] loss: 1.245\n",
            "[1,   600] loss: 1.086\n",
            "[1,   700] loss: 1.032\n",
            "[1,   800] loss: 0.972\n",
            "[1,   900] loss: 0.927\n",
            "[1,  1000] loss: 0.988\n",
            "[1,  1100] loss: 1.150\n",
            "[1,  1200] loss: 0.958\n",
            "[1,  1300] loss: 1.036\n",
            "[1,  1400] loss: 0.857\n",
            "[1,  1500] loss: 0.889\n",
            "[1,  1600] loss: 1.012\n",
            "[1,  1700] loss: 0.846\n",
            "[1,  1800] loss: 1.011\n",
            "[2,     0] loss: 0.922\n",
            "[2,   100] loss: 1.011\n",
            "[2,   200] loss: 0.710\n",
            "[2,   300] loss: 0.816\n",
            "[2,   400] loss: 0.648\n",
            "[2,   500] loss: 0.867\n",
            "[2,   600] loss: 0.793\n",
            "[2,   700] loss: 0.817\n",
            "[2,   800] loss: 0.751\n",
            "[2,   900] loss: 0.780\n",
            "[2,  1000] loss: 0.837\n",
            "[2,  1100] loss: 0.776\n",
            "[2,  1200] loss: 0.782\n",
            "[2,  1300] loss: 0.635\n",
            "[2,  1400] loss: 0.807\n",
            "[2,  1500] loss: 0.715\n",
            "[2,  1600] loss: 0.571\n",
            "[2,  1700] loss: 0.857\n",
            "[2,  1800] loss: 0.530\n",
            "[3,     0] loss: 0.494\n",
            "[3,   100] loss: 0.553\n",
            "[3,   200] loss: 0.613\n",
            "[3,   300] loss: 0.708\n",
            "[3,   400] loss: 0.526\n",
            "[3,   500] loss: 0.422\n",
            "[3,   600] loss: 0.593\n",
            "[3,   700] loss: 0.767\n",
            "[3,   800] loss: 0.743\n",
            "[3,   900] loss: 0.460\n",
            "[3,  1000] loss: 0.537\n",
            "[3,  1100] loss: 0.602\n",
            "[3,  1200] loss: 0.436\n",
            "[3,  1300] loss: 0.527\n",
            "[3,  1400] loss: 0.726\n",
            "[3,  1500] loss: 0.595\n",
            "[3,  1600] loss: 0.381\n",
            "[3,  1700] loss: 0.534\n",
            "[3,  1800] loss: 0.468\n",
            "[4,     0] loss: 0.534\n",
            "[4,   100] loss: 0.607\n",
            "[4,   200] loss: 0.692\n",
            "[4,   300] loss: 0.563\n",
            "[4,   400] loss: 0.471\n",
            "[4,   500] loss: 0.659\n",
            "[4,   600] loss: 0.425\n",
            "[4,   700] loss: 0.410\n",
            "[4,   800] loss: 0.494\n",
            "[4,   900] loss: 0.635\n",
            "[4,  1000] loss: 0.353\n",
            "[4,  1100] loss: 0.733\n",
            "[4,  1200] loss: 0.752\n",
            "[4,  1300] loss: 0.400\n",
            "[4,  1400] loss: 0.763\n",
            "[4,  1500] loss: 0.317\n",
            "[4,  1600] loss: 0.732\n",
            "[4,  1700] loss: 0.484\n",
            "[4,  1800] loss: 0.610\n"
          ]
        },
        {
          "output_type": "display_data",
          "data": {
            "text/plain": [
              "<Figure size 640x480 with 1 Axes>"
            ],
            "image/png": "[encoded data removed]"
          },
          "metadata": {}
        }
      ]
    },
    {
      "cell_type": "code",
      "source": [
        "preds_hist=[]\n",
        "exp_hist=[]\n",
        "MC=torch.zeros(10,10)\n",
        "for batch_idx, data in enumerate(test_loader):  # consume the dataset, one batch at a time\n",
        "        # get the inputs; data is a tuple of (inputs, labels)\n",
        "        inputs, labels = data\n",
        "\n",
        "        # do a forward pass\n",
        "        outputs = net(inputs)\n",
        "\n",
        "        preds=torch.argmax(outputs,dim=1)\n",
        "        preds_hist.append(preds.detach())\n",
        "        exp_hist.append(labels.detach())\n",
        "\n",
        "for i in range(len(preds_hist)):\n",
        "  for j in range(len(exp_hist[i])):\n",
        "    MC[preds_hist[i][j], exp_hist[i][j]]+=1"
      ],
      "metadata": {
        "id": "lK032mIZLaRe"
      },
      "execution_count": null,
      "outputs": []
    },
    {
      "cell_type": "code",
      "source": [
        "MC\n",
        "conf_matrix = MC\n",
        "conf_df = pd.DataFrame(conf_matrix)\n",
        "conf_df.to_csv(\"confusion_matrix1.csv\", index=False)\n",
        "MC"
      ],
      "metadata": {
        "colab": {
          "base_uri": "https://localhost:8080/"
        },
        "id": "_5ZnIGeGYM-r",
        "outputId": "7a7ed4ef-8e1e-449b-e191-fcf60831e5f0"
      },
      "execution_count": null,
      "outputs": [
        {
          "output_type": "execute_result",
          "data": {
            "text/plain": [
              "tensor([[9.4700e+02, 0.0000e+00, 1.4000e+01, 6.0000e+00, 2.0000e+00, 2.4000e+01,\n",
              "         2.2000e+01, 4.0000e+00, 9.0000e+00, 1.3000e+01],\n",
              "        [0.0000e+00, 1.0950e+03, 2.2000e+01, 1.0000e+00, 8.0000e+00, 1.2000e+01,\n",
              "         3.0000e+00, 3.1000e+01, 1.2000e+01, 1.1000e+01],\n",
              "        [3.0000e+00, 6.0000e+00, 8.6100e+02, 2.1000e+01, 6.0000e+00, 5.0000e+00,\n",
              "         1.6000e+01, 2.6000e+01, 1.4000e+01, 8.0000e+00],\n",
              "        [2.0000e+00, 5.0000e+00, 2.4000e+01, 8.8100e+02, 0.0000e+00, 6.0000e+01,\n",
              "         2.0000e+00, 1.0000e+00, 4.6000e+01, 1.1000e+01],\n",
              "        [0.0000e+00, 1.0000e+00, 1.9000e+01, 1.0000e+00, 8.7100e+02, 1.9000e+01,\n",
              "         1.7000e+01, 1.5000e+01, 1.2000e+01, 4.9000e+01],\n",
              "        [8.0000e+00, 1.0000e+00, 0.0000e+00, 3.6000e+01, 1.0000e+00, 6.7600e+02,\n",
              "         1.9000e+01, 0.0000e+00, 2.3000e+01, 1.4000e+01],\n",
              "        [1.5000e+01, 4.0000e+00, 2.9000e+01, 7.0000e+00, 1.5000e+01, 2.7000e+01,\n",
              "         8.7200e+02, 0.0000e+00, 1.7000e+01, 1.0000e+00],\n",
              "        [1.0000e+00, 0.0000e+00, 2.1000e+01, 2.1000e+01, 2.0000e+00, 9.0000e+00,\n",
              "         0.0000e+00, 8.9900e+02, 1.3000e+01, 3.2000e+01],\n",
              "        [4.0000e+00, 2.3000e+01, 3.8000e+01, 2.4000e+01, 1.0000e+01, 4.6000e+01,\n",
              "         7.0000e+00, 8.0000e+00, 8.0400e+02, 8.0000e+00],\n",
              "        [0.0000e+00, 0.0000e+00, 4.0000e+00, 1.2000e+01, 6.7000e+01, 1.4000e+01,\n",
              "         0.0000e+00, 4.4000e+01, 2.4000e+01, 8.6200e+02]])"
            ]
          },
          "metadata": {},
          "execution_count": 118
        }
      ]
    },
    {
      "cell_type": "code",
      "source": [
        "sum_MC = torch.sum(MC)\n",
        "print(\"Suma de la matriz de confusion: \", sum_MC)\n",
        "plt.imshow(MC, cmap=plt.cm.Blues)\n",
        "plt.colorbar()\n",
        "plt.xlabel('Expected')\n",
        "plt.ylabel('Predicted')\n",
        "plt.show()\n",
        "plt.savefig(\"Modelo1.jpg\")"
      ],
      "metadata": {
        "colab": {
          "base_uri": "https://localhost:8080/",
          "height": 484
        },
        "id": "hTNG9Pllv-ZA",
        "outputId": "526de8c5-2355-4456-82d1-acb510ccb661"
      },
      "execution_count": null,
      "outputs": [
        {
          "output_type": "stream",
          "name": "stdout",
          "text": [
            "Suma de la matriz de confusion:  tensor(10000.)\n"
          ]
        },
        {
          "output_type": "display_data",
          "data": {
            "text/plain": [
              "<Figure size 640x480 with 2 Axes>"
            ],
            "image/png": "[encoded data removed]"
          },
          "metadata": {}
        },
        {
          "output_type": "display_data",
          "data": {
            "text/plain": [
              "<Figure size 640x480 with 0 Axes>"
            ]
          },
          "metadata": {}
        }
      ]
    },
    {
      "cell_type": "markdown",
      "source": [
        "# **2do Red Neuronal**"
      ],
      "metadata": {
        "id": "I575tRr9k_YK"
      }
    },
    {
      "cell_type": "code",
      "source": [
        "#2da RED NEURONAL A ENTRENAR\n",
        "C1 = 1  # monochromatic images\n",
        "H1 = 28  # 28 pixels per side\n",
        "W1 = 28  # 28 pixels per side\n",
        "\n",
        "n_inputs1 = C1*H1*W1  # total number of inputs is the total number of pixels\n",
        "N11 = 1000  # number of neurons in layer 1, the input layer\n",
        "n_outputs1 = 10  # number of neurons at layer 2, the output layer\n",
        "\n",
        "# let's build our network using a Sequential container\n",
        "net1 = torch.nn.Sequential(\n",
        "            torch.nn.Flatten(start_dim=1),  # start at 2nd dim to preserve the batch dim\n",
        "            torch.nn.Linear(n_inputs1, N11),  # n_inputs connecting to N1 neurons\n",
        "            torch.nn.Linear(N11, n_outputs1), # N1 outputs from last layer are inputs to this layer with n_outputs neurons\n",
        "        )\n",
        "\n",
        "#Criterio de 2da RED NEURONAL\n",
        "criterion2 = torch.nn.CrossEntropyLoss()\n",
        "\n",
        "#Optimizador de 2da RED NEURONAL\n",
        "optimizer1 = optim.SGD(net1.parameters(), lr=0.001)\n",
        "\n",
        "#Entrenamiento 2da red neuronal\n",
        "red02=[]\n",
        "n_epochs2 = 5  # number of epochs we want to train\n",
        "for epoch in range(n_epochs2):  # range(int_x) converts an integer into a list from 0 to int_x\n",
        "    for batch_idx, data in enumerate(train_loader):  # consume the dataset, one batch at a time\n",
        "        # get the inputs; data is a tuple of (inputs, labels)\n",
        "        inputs, labels = data\n",
        "\n",
        "        # zero the parameter gradients to get the gradient per batch\n",
        "        optimizer1.zero_grad()\n",
        "\n",
        "        # do a forward pass\n",
        "        outputs = net1(inputs)\n",
        "\n",
        "        # compute the loss\n",
        "        loss = criterion2(outputs, labels)\n",
        "\n",
        "        # do the backpropagation\n",
        "        loss.backward()  # backward is an attribute of every tensor.\n",
        "                         # Thus, you can compute the gradient on any tensor that\n",
        "                         # that results from any differentiable operation.\n",
        "\n",
        "        # Let the parameters with the optimizer\n",
        "        optimizer1.step()\n",
        "\n",
        "        # print statistics\n",
        "        if batch_idx % 100 == 0:    # print every 100 mini-batches\n",
        "          print(f'[{epoch}, {batch_idx:5d}] loss: {loss.item():.3f}')\n",
        "        red02.append(loss.item())\n",
        "        plt.plot(red02)\n",
        "        plt.show\n",
        "        model2 = torch.save(net1, 'model2.pth')"
      ],
      "metadata": {
        "colab": {
          "base_uri": "https://localhost:8080/",
          "height": 1000
        },
        "id": "4uJ2qBP2k-z3",
        "outputId": "da91719a-a3e1-419c-a2e2-8150a4be3a71"
      },
      "execution_count": null,
      "outputs": [
        {
          "output_type": "stream",
          "name": "stdout",
          "text": [
            "[0,     0] loss: 2.312\n",
            "[0,   100] loss: 2.242\n",
            "[0,   200] loss: 2.145\n",
            "[0,   300] loss: 2.067\n",
            "[0,   400] loss: 2.042\n",
            "[0,   500] loss: 1.977\n",
            "[0,   600] loss: 1.857\n",
            "[0,   700] loss: 1.828\n",
            "[0,   800] loss: 1.750\n",
            "[0,   900] loss: 1.761\n",
            "[0,  1000] loss: 1.655\n",
            "[0,  1100] loss: 1.539\n",
            "[0,  1200] loss: 1.488\n",
            "[0,  1300] loss: 1.451\n",
            "[0,  1400] loss: 1.513\n",
            "[0,  1500] loss: 1.334\n",
            "[0,  1600] loss: 1.452\n",
            "[0,  1700] loss: 1.380\n",
            "[0,  1800] loss: 1.134\n",
            "[1,     0] loss: 1.317\n",
            "[1,   100] loss: 1.349\n",
            "[1,   200] loss: 1.178\n",
            "[1,   300] loss: 1.172\n",
            "[1,   400] loss: 1.045\n",
            "[1,   500] loss: 1.094\n",
            "[1,   600] loss: 1.265\n",
            "[1,   700] loss: 1.119\n",
            "[1,   800] loss: 1.206\n",
            "[1,   900] loss: 0.997\n",
            "[1,  1000] loss: 1.020\n",
            "[1,  1100] loss: 0.897\n",
            "[1,  1200] loss: 0.823\n",
            "[1,  1300] loss: 0.820\n",
            "[1,  1400] loss: 0.745\n",
            "[1,  1500] loss: 0.990\n",
            "[1,  1600] loss: 0.958\n",
            "[1,  1700] loss: 0.879\n",
            "[1,  1800] loss: 0.844\n",
            "[2,     0] loss: 0.806\n",
            "[2,   100] loss: 0.720\n",
            "[2,   200] loss: 0.766\n",
            "[2,   300] loss: 0.967\n",
            "[2,   400] loss: 0.648\n",
            "[2,   500] loss: 0.681\n",
            "[2,   600] loss: 0.798\n",
            "[2,   700] loss: 0.836\n",
            "[2,   800] loss: 0.861\n",
            "[2,   900] loss: 0.772\n",
            "[2,  1000] loss: 0.721\n",
            "[2,  1100] loss: 0.651\n",
            "[2,  1200] loss: 0.626\n",
            "[2,  1300] loss: 0.829\n",
            "[2,  1400] loss: 0.524\n",
            "[2,  1500] loss: 1.014\n",
            "[2,  1600] loss: 0.774\n",
            "[2,  1700] loss: 0.775\n",
            "[2,  1800] loss: 0.567\n",
            "[3,     0] loss: 0.582\n",
            "[3,   100] loss: 0.540\n",
            "[3,   200] loss: 0.343\n",
            "[3,   300] loss: 0.684\n",
            "[3,   400] loss: 0.457\n",
            "[3,   500] loss: 0.673\n",
            "[3,   600] loss: 0.631\n",
            "[3,   700] loss: 0.542\n",
            "[3,   800] loss: 0.546\n",
            "[3,   900] loss: 0.544\n",
            "[3,  1000] loss: 0.524\n",
            "[3,  1100] loss: 0.712\n",
            "[3,  1200] loss: 0.902\n",
            "[3,  1300] loss: 0.500\n",
            "[3,  1400] loss: 0.487\n",
            "[3,  1500] loss: 0.540\n",
            "[3,  1600] loss: 0.445\n",
            "[3,  1700] loss: 0.685\n",
            "[3,  1800] loss: 0.560\n",
            "[4,     0] loss: 0.450\n",
            "[4,   100] loss: 0.572\n",
            "[4,   200] loss: 0.566\n",
            "[4,   300] loss: 0.471\n",
            "[4,   400] loss: 0.655\n",
            "[4,   500] loss: 0.671\n",
            "[4,   600] loss: 0.622\n",
            "[4,   700] loss: 0.468\n",
            "[4,   800] loss: 0.567\n",
            "[4,   900] loss: 0.478\n",
            "[4,  1000] loss: 0.385\n",
            "[4,  1100] loss: 0.396\n",
            "[4,  1200] loss: 0.337\n",
            "[4,  1300] loss: 0.445\n",
            "[4,  1400] loss: 0.471\n",
            "[4,  1500] loss: 0.372\n",
            "[4,  1600] loss: 0.546\n",
            "[4,  1700] loss: 0.444\n",
            "[4,  1800] loss: 0.514\n"
          ]
        },
        {
          "output_type": "display_data",
          "data": {
            "text/plain": [
              "<Figure size 640x480 with 1 Axes>"
            ],
            "image/png": "[encoded data removed]"
          },
          "metadata": {}
        }
      ]
    },
    {
      "cell_type": "code",
      "source": [
        "\n",
        "preds_hist1=[]\n",
        "exp_hist1=[]\n",
        "MC1=torch.zeros(10,10)\n",
        "for batch_idx, data in enumerate(test_loader):  # consume the dataset, one batch at a time\n",
        "        # get the inputs; data is a tuple of (inputs, labels)\n",
        "        inputs, labels = data\n",
        "\n",
        "        # do a forward pass\n",
        "        outputs = net1(inputs)\n",
        "\n",
        "        preds=torch.argmax(outputs,dim=1)\n",
        "        preds_hist1.append(preds.detach())\n",
        "        exp_hist1.append(labels.detach())\n",
        "\n",
        "for i in range(len(preds_hist1)):\n",
        "  for j in range(len(exp_hist1[i])):\n",
        "    MC1[preds_hist1[i][j], exp_hist1[i][j]]+=1\n",
        "#sum_MC1=torch.sum(MC1)\n",
        "#print (\"suma\",sum_MC1)\n",
        "MC1\n",
        "conf_matrix2 = MC1\n",
        "conf_df2 = pd.DataFrame(conf_matrix2)\n",
        "conf_df2.to_csv(\"confusion_matrix2.csv\", index=False)\n",
        "MC1"
      ],
      "metadata": {
        "colab": {
          "base_uri": "https://localhost:8080/"
        },
        "id": "rMWwGLNpr1Dq",
        "outputId": "95029ee6-a129-401a-c2e3-93e2f21434ca"
      },
      "execution_count": null,
      "outputs": [
        {
          "output_type": "execute_result",
          "data": {
            "text/plain": [
              "tensor([[9.4900e+02, 0.0000e+00, 1.9000e+01, 5.0000e+00, 2.0000e+00, 2.5000e+01,\n",
              "         2.0000e+01, 4.0000e+00, 9.0000e+00, 1.3000e+01],\n",
              "        [0.0000e+00, 1.0950e+03, 1.9000e+01, 2.0000e+00, 7.0000e+00, 8.0000e+00,\n",
              "         3.0000e+00, 2.8000e+01, 1.2000e+01, 1.0000e+01],\n",
              "        [5.0000e+00, 5.0000e+00, 8.6200e+02, 1.9000e+01, 5.0000e+00, 5.0000e+00,\n",
              "         1.5000e+01, 3.0000e+01, 1.2000e+01, 1.0000e+01],\n",
              "        [3.0000e+00, 3.0000e+00, 2.1000e+01, 8.8800e+02, 0.0000e+00, 5.2000e+01,\n",
              "         1.0000e+00, 1.0000e+00, 4.1000e+01, 1.0000e+01],\n",
              "        [0.0000e+00, 1.0000e+00, 1.9000e+01, 1.0000e+00, 8.7500e+02, 2.6000e+01,\n",
              "         1.5000e+01, 1.5000e+01, 1.4000e+01, 4.8000e+01],\n",
              "        [7.0000e+00, 1.0000e+00, 0.0000e+00, 3.9000e+01, 1.0000e+00, 6.8700e+02,\n",
              "         1.9000e+01, 0.0000e+00, 2.9000e+01, 1.6000e+01],\n",
              "        [1.1000e+01, 4.0000e+00, 2.6000e+01, 5.0000e+00, 1.7000e+01, 2.5000e+01,\n",
              "         8.7600e+02, 0.0000e+00, 1.7000e+01, 2.0000e+00],\n",
              "        [1.0000e+00, 0.0000e+00, 2.2000e+01, 2.0000e+01, 2.0000e+00, 9.0000e+00,\n",
              "         0.0000e+00, 8.9700e+02, 1.1000e+01, 2.7000e+01],\n",
              "        [4.0000e+00, 2.6000e+01, 3.9000e+01, 1.9000e+01, 1.0000e+01, 4.2000e+01,\n",
              "         9.0000e+00, 8.0000e+00, 8.0400e+02, 1.0000e+01],\n",
              "        [0.0000e+00, 0.0000e+00, 5.0000e+00, 1.2000e+01, 6.3000e+01, 1.3000e+01,\n",
              "         0.0000e+00, 4.5000e+01, 2.5000e+01, 8.6300e+02]])"
            ]
          },
          "metadata": {},
          "execution_count": 121
        }
      ]
    },
    {
      "cell_type": "code",
      "source": [
        "sum_MC1 = torch.sum(MC1)\n",
        "print(\"Suma de la matriz de confusion: \", sum_MC1)\n",
        "plt.imshow(MC1, cmap=plt.cm.Blues)\n",
        "plt.colorbar()\n",
        "plt.xlabel('Expected')\n",
        "plt.ylabel('Predicted')\n",
        "plt.show()\n",
        "plt.savefig(\"Modelo2.jpg\")"
      ],
      "metadata": {
        "colab": {
          "base_uri": "https://localhost:8080/",
          "height": 484
        },
        "id": "TmUkU4uMzQo2",
        "outputId": "bbe11868-3180-4e0f-f508-3b1e1bfeb10f"
      },
      "execution_count": null,
      "outputs": [
        {
          "output_type": "stream",
          "name": "stdout",
          "text": [
            "Suma de la matriz de confusion:  tensor(10000.)\n"
          ]
        },
        {
          "output_type": "display_data",
          "data": {
            "text/plain": [
              "<Figure size 640x480 with 2 Axes>"
            ],
            "image/png": "[encoded data removed]"
          },
          "metadata": {}
        },
        {
          "output_type": "display_data",
          "data": {
            "text/plain": [
              "<Figure size 640x480 with 0 Axes>"
            ]
          },
          "metadata": {}
        }
      ]
    },
    {
      "cell_type": "markdown",
      "source": [
        "# **3ra Red Neuronal**"
      ],
      "metadata": {
        "id": "U-or82_BtCSK"
      }
    },
    {
      "cell_type": "code",
      "source": [
        "#3ra RED NEURONAL A ENTRENAR\n",
        "C2 = 1  # monochromatic images\n",
        "H2 = 28  # 28 pixels per side\n",
        "W2 = 28  # 28 pixels per side\n",
        "\n",
        "n_inputs2 = C2*H2*W2  # total number of inputs is the total number of pixels\n",
        "N12 = 700  # number of neurons in layer 1, the input layer\n",
        "n_outputs2 = 10  # number of neurons at layer 2, the output layer\n",
        "\n",
        "# let's build our network using a Sequential container\n",
        "net2 = torch.nn.Sequential(\n",
        "            torch.nn.Flatten(start_dim=1),  # start at 2nd dim to preserve the batch dim\n",
        "            torch.nn.Linear(n_inputs2, N12),  # n_inputs connecting to N1 neurons\n",
        "            torch.nn.Linear(N12, n_outputs2), # N1 outputs from last layer are inputs to this layer with n_outputs neurons\n",
        "        )\n",
        "\n",
        "#Criterio 3ra RED NEURONAL\n",
        "criterion3 = torch.nn.CrossEntropyLoss()\n",
        "\n",
        "#Optimizador de 3ra RED NEURONAL\n",
        "optimizer3 = optim.SGD(net2.parameters(), lr=0.001)\n",
        "\n"
      ],
      "metadata": {
        "id": "qN5tn2nUtKZc"
      },
      "execution_count": null,
      "outputs": []
    },
    {
      "cell_type": "code",
      "source": [
        "#Entrenamiento 3ra red neuronal\n",
        "red03=[]\n",
        "n_epochs3 = 5  # number of epochs we want to train\n",
        "for epoch in range(n_epochs3):  # range(int_x) converts an integer into a list from 0 to int_x\n",
        "    for batch_idx, data in enumerate(train_loader):  # consume the dataset, one batch at a time\n",
        "        # get the inputs; data is a tuple of (inputs, labels)\n",
        "        inputs, labels = data\n",
        "\n",
        "        # zero the parameter gradients to get the gradient per batch\n",
        "        optimizer3.zero_grad()\n",
        "\n",
        "        # do a forward pass\n",
        "        outputs = net2(inputs)\n",
        "\n",
        "        # compute the loss\n",
        "        loss = criterion(outputs, labels)\n",
        "\n",
        "        # do the backpropagation\n",
        "        loss.backward()  # backward is an attribute of every tensor.\n",
        "                         # Thus, you can compute the gradient on any tensor that\n",
        "                         # that results from any differentiable operation.\n",
        "\n",
        "        # Let the parameters with the optimizer\n",
        "        optimizer3.step()\n",
        "\n",
        "        # print statistics\n",
        "        if batch_idx % 100 == 0:    # print every 100 mini-batches\n",
        "          print(f'[{epoch}, {batch_idx:5d}] loss: {loss.item():.3f}')\n",
        "        red03.append(loss.item())\n",
        "        plt.plot(red03)\n",
        "        plt.show\n",
        "        model3 = torch.save(net2, 'model3.pth')"
      ],
      "metadata": {
        "colab": {
          "base_uri": "https://localhost:8080/",
          "height": 1000
        },
        "id": "dTUoLt2iewT6",
        "outputId": "61bad670-dc90-40f8-9ecd-ebb3065c1c19"
      },
      "execution_count": null,
      "outputs": [
        {
          "output_type": "stream",
          "name": "stdout",
          "text": [
            "[0,     0] loss: 2.325\n",
            "[0,   100] loss: 2.204\n",
            "[0,   200] loss: 2.113\n",
            "[0,   300] loss: 2.079\n",
            "[0,   400] loss: 2.022\n",
            "[0,   500] loss: 1.975\n",
            "[0,   600] loss: 1.959\n",
            "[0,   700] loss: 1.887\n",
            "[0,   800] loss: 1.755\n",
            "[0,   900] loss: 1.825\n",
            "[0,  1000] loss: 1.621\n",
            "[0,  1100] loss: 1.595\n",
            "[0,  1200] loss: 1.553\n",
            "[0,  1300] loss: 1.641\n",
            "[0,  1400] loss: 1.534\n",
            "[0,  1500] loss: 1.517\n",
            "[0,  1600] loss: 1.419\n",
            "[0,  1700] loss: 1.352\n",
            "[0,  1800] loss: 1.378\n",
            "[1,     0] loss: 1.251\n",
            "[1,   100] loss: 1.260\n",
            "[1,   200] loss: 1.165\n",
            "[1,   300] loss: 1.087\n",
            "[1,   400] loss: 1.148\n",
            "[1,   500] loss: 1.124\n",
            "[1,   600] loss: 1.141\n",
            "[1,   700] loss: 1.137\n",
            "[1,   800] loss: 1.146\n",
            "[1,   900] loss: 0.989\n",
            "[1,  1000] loss: 0.875\n",
            "[1,  1100] loss: 0.775\n",
            "[1,  1200] loss: 1.151\n",
            "[1,  1300] loss: 1.082\n",
            "[1,  1400] loss: 1.065\n",
            "[1,  1500] loss: 1.028\n",
            "[1,  1600] loss: 0.880\n",
            "[1,  1700] loss: 1.071\n",
            "[1,  1800] loss: 0.928\n",
            "[2,     0] loss: 0.901\n",
            "[2,   100] loss: 0.735\n",
            "[2,   200] loss: 0.827\n",
            "[2,   300] loss: 0.961\n",
            "[2,   400] loss: 0.727\n",
            "[2,   500] loss: 0.721\n",
            "[2,   600] loss: 0.689\n",
            "[2,   700] loss: 0.851\n",
            "[2,   800] loss: 0.652\n",
            "[2,   900] loss: 0.762\n",
            "[2,  1000] loss: 0.591\n",
            "[2,  1100] loss: 0.788\n",
            "[2,  1200] loss: 0.713\n",
            "[2,  1300] loss: 0.519\n",
            "[2,  1400] loss: 0.829\n",
            "[2,  1500] loss: 0.773\n",
            "[2,  1600] loss: 0.687\n",
            "[2,  1700] loss: 0.615\n",
            "[2,  1800] loss: 0.987\n",
            "[3,     0] loss: 0.650\n",
            "[3,   100] loss: 0.577\n",
            "[3,   200] loss: 1.061\n",
            "[3,   300] loss: 0.571\n",
            "[3,   400] loss: 0.589\n",
            "[3,   500] loss: 0.844\n",
            "[3,   600] loss: 0.868\n",
            "[3,   700] loss: 0.647\n",
            "[3,   800] loss: 0.696\n",
            "[3,   900] loss: 0.574\n",
            "[3,  1000] loss: 0.801\n",
            "[3,  1100] loss: 0.739\n",
            "[3,  1200] loss: 0.528\n",
            "[3,  1300] loss: 0.408\n",
            "[3,  1400] loss: 0.603\n",
            "[3,  1500] loss: 0.583\n",
            "[3,  1600] loss: 0.760\n",
            "[3,  1700] loss: 0.483\n",
            "[3,  1800] loss: 0.546\n",
            "[4,     0] loss: 0.691\n",
            "[4,   100] loss: 0.624\n",
            "[4,   200] loss: 0.432\n",
            "[4,   300] loss: 0.551\n",
            "[4,   400] loss: 1.038\n",
            "[4,   500] loss: 0.463\n",
            "[4,   600] loss: 0.752\n",
            "[4,   700] loss: 0.614\n",
            "[4,   800] loss: 0.676\n",
            "[4,   900] loss: 0.588\n",
            "[4,  1000] loss: 0.434\n",
            "[4,  1100] loss: 0.607\n",
            "[4,  1200] loss: 0.511\n",
            "[4,  1300] loss: 0.567\n",
            "[4,  1400] loss: 0.661\n",
            "[4,  1500] loss: 0.701\n",
            "[4,  1600] loss: 0.440\n",
            "[4,  1700] loss: 0.532\n",
            "[4,  1800] loss: 0.582\n"
          ]
        },
        {
          "output_type": "display_data",
          "data": {
            "text/plain": [
              "<Figure size 640x480 with 1 Axes>"
            ],
            "image/png": "[encoded data removed]"
          },
          "metadata": {}
        }
      ]
    },
    {
      "cell_type": "code",
      "source": [
        "#TEST\n",
        "preds_hist2=[]\n",
        "exp_hist2=[]\n",
        "MC2=torch.zeros(10,10)\n",
        "for batch_idx, data in enumerate(test_loader):  # consume the dataset, one batch at a time\n",
        "        # get the inputs; data is a tuple of (inputs, labels)\n",
        "        inputs, labels = data\n",
        "\n",
        "        # do a forward pass\n",
        "        outputs = net2(inputs)\n",
        "\n",
        "        preds=torch.argmax(outputs,dim=1)\n",
        "        preds_hist2.append(preds.detach())\n",
        "        exp_hist2.append(labels.detach())\n",
        "\n",
        "for i in range(len(preds_hist2)):\n",
        "  for j in range(len(exp_hist2[i])):\n",
        "    MC2[preds_hist2[i][j], exp_hist2[i][j]]+=1\n",
        "#sum_MC2=torch.sum(MC2)\n",
        "#print (\"suma\",sum_MC2)\n",
        "MC2\n",
        "conf_matrix3 = MC2\n",
        "conf_df3 = pd.DataFrame(conf_matrix3)\n",
        "conf_df3.to_csv(\"confusion_matrix3.csv\", index=False)\n",
        "MC2"
      ],
      "metadata": {
        "colab": {
          "base_uri": "https://localhost:8080/"
        },
        "id": "A3vHv3GOuQ3p",
        "outputId": "a2e8334f-d154-4ff7-a1d1-e18956b554bd"
      },
      "execution_count": null,
      "outputs": [
        {
          "output_type": "execute_result",
          "data": {
            "text/plain": [
              "tensor([[9.4600e+02, 0.0000e+00, 1.7000e+01, 5.0000e+00, 2.0000e+00, 2.4000e+01,\n",
              "         1.9000e+01, 5.0000e+00, 9.0000e+00, 1.2000e+01],\n",
              "        [0.0000e+00, 1.0940e+03, 2.1000e+01, 2.0000e+00, 7.0000e+00, 1.1000e+01,\n",
              "         4.0000e+00, 3.2000e+01, 1.4000e+01, 1.0000e+01],\n",
              "        [5.0000e+00, 5.0000e+00, 8.6000e+02, 1.9000e+01, 5.0000e+00, 8.0000e+00,\n",
              "         1.5000e+01, 2.5000e+01, 1.6000e+01, 9.0000e+00],\n",
              "        [3.0000e+00, 3.0000e+00, 2.4000e+01, 8.8400e+02, 0.0000e+00, 6.1000e+01,\n",
              "         2.0000e+00, 1.0000e+00, 3.8000e+01, 1.1000e+01],\n",
              "        [0.0000e+00, 0.0000e+00, 2.1000e+01, 1.0000e+00, 8.7600e+02, 2.5000e+01,\n",
              "         1.6000e+01, 1.4000e+01, 1.5000e+01, 4.7000e+01],\n",
              "        [9.0000e+00, 1.0000e+00, 1.0000e+00, 3.6000e+01, 2.0000e+00, 6.7100e+02,\n",
              "         2.2000e+01, 0.0000e+00, 2.5000e+01, 1.6000e+01],\n",
              "        [1.2000e+01, 4.0000e+00, 2.5000e+01, 5.0000e+00, 1.8000e+01, 2.7000e+01,\n",
              "         8.7600e+02, 0.0000e+00, 1.8000e+01, 0.0000e+00],\n",
              "        [1.0000e+00, 0.0000e+00, 2.2000e+01, 2.0000e+01, 2.0000e+00, 1.4000e+01,\n",
              "         0.0000e+00, 9.0200e+02, 1.3000e+01, 3.2000e+01],\n",
              "        [4.0000e+00, 2.8000e+01, 3.5000e+01, 2.6000e+01, 1.0000e+01, 4.0000e+01,\n",
              "         4.0000e+00, 7.0000e+00, 8.0400e+02, 8.0000e+00],\n",
              "        [0.0000e+00, 0.0000e+00, 6.0000e+00, 1.2000e+01, 6.0000e+01, 1.1000e+01,\n",
              "         0.0000e+00, 4.2000e+01, 2.2000e+01, 8.6400e+02]])"
            ]
          },
          "metadata": {},
          "execution_count": 125
        }
      ]
    },
    {
      "cell_type": "code",
      "source": [
        "sum_MC2 = torch.sum(MC2)\n",
        "print(\"Suma de la matriz de confusion: \", sum_MC2)\n",
        "plt.imshow(MC2, cmap=plt.cm.Blues)\n",
        "plt.colorbar()\n",
        "plt.xlabel('Expected')\n",
        "plt.ylabel('Predicted')\n",
        "plt.show()\n",
        "plt.savefig(\"Modelo3.jpg\")\n",
        "#model3 = torch.save(net2, 'model3.pth')"
      ],
      "metadata": {
        "colab": {
          "base_uri": "https://localhost:8080/",
          "height": 484
        },
        "id": "Xc6vS8mhv1a5",
        "outputId": "f5f110ba-8a06-4bea-c063-11bcc79cfac5"
      },
      "execution_count": null,
      "outputs": [
        {
          "output_type": "stream",
          "name": "stdout",
          "text": [
            "Suma de la matriz de confusion:  tensor(10000.)\n"
          ]
        },
        {
          "output_type": "display_data",
          "data": {
            "text/plain": [
              "<Figure size 640x480 with 2 Axes>"
            ],
            "image/png": "[encoded data removed]"
          },
          "metadata": {}
        },
        {
          "output_type": "display_data",
          "data": {
            "text/plain": [
              "<Figure size 640x480 with 0 Axes>"
            ]
          },
          "metadata": {}
        }
      ]
    },
    {
      "cell_type": "markdown",
      "source": [
        "# **Red sin entrenamiento**"
      ],
      "metadata": {
        "id": "SkJ5LydJozpD"
      }
    },
    {
      "cell_type": "code",
      "source": [
        "#RED NEURONAL SIN ENTRENAR\n",
        "C3 = 1  # monochromatic images\n",
        "H3 = 28  # 28 pixels per side\n",
        "W3 = 28  # 28 pixels per side\n",
        "\n",
        "n_inputs3 = C3*H3*W3  # total number of inputs is the total number of pixels\n",
        "N13 = 600  # number of neurons in layer 1, the input layer\n",
        "n_outputs3 = 10  # number of neurons at layer 2, the output layer\n",
        "\n",
        "# let's build our network using a Sequential container\n",
        "net3 = torch.nn.Sequential(\n",
        "            torch.nn.Flatten(start_dim=1),  # start at 2nd dim to preserve the batch dim\n",
        "            torch.nn.Linear(n_inputs3, N13),  # n_inputs connecting to N1 neurons\n",
        "            torch.nn.Linear(N13, n_outputs3), # N1 outputs from last layer are inputs to this layer with n_outputs neurons\n",
        "        )\n",
        "\n",
        "#Criterio 4ta RED NEURONAL\n",
        "criterion4 = torch.nn.CrossEntropyLoss()\n",
        "\n",
        "#Optimizador de 3ra RED NEURONAL\n",
        "optimizer4 = optim.SGD(net2.parameters(), lr=0.001)\n",
        "#TEST\n",
        "preds_hist3=[]\n",
        "exp_hist3=[]\n",
        "MC3=torch.zeros(10,10)\n",
        "for batch_idx, data in enumerate(test_loader):  # consume the dataset, one batch at a time\n",
        "        # get the inputs; data is a tuple of (inputs, labels)\n",
        "        inputs, labels = data\n",
        "\n",
        "        # do a forward pass\n",
        "        outputs = net3(inputs)\n",
        "\n",
        "        preds=torch.argmax(outputs,dim=1)\n",
        "        preds_hist3.append(preds.detach())\n",
        "        exp_hist3.append(labels.detach())\n",
        "\n",
        "for i in range(len(preds_hist3)):\n",
        "  for j in range(len(exp_hist3[i])):\n",
        "    MC3[preds_hist3[i][j], exp_hist3[i][j]]+=1\n",
        "#sum_MC2=torch.sum(MC2)\n",
        "#print (\"suma\",sum_MC2)\n",
        "MC3\n",
        "sum_MC3 = torch.sum(MC3)\n",
        "print(\"Suma de la matriz de confusion: \", sum_MC3)\n",
        "plt.imshow(MC3, cmap=plt.cm.Blues)\n",
        "plt.colorbar()\n",
        "plt.xlabel('Expected')\n",
        "plt.ylabel('Predicted')\n",
        "plt.show()\n",
        "plt.savefig(\"Modelo4.jpg\")"
      ],
      "metadata": {
        "colab": {
          "base_uri": "https://localhost:8080/",
          "height": 484
        },
        "id": "xZKhE5EHo22A",
        "outputId": "064aedb7-9347-468c-9b16-46b5b8ce001a"
      },
      "execution_count": null,
      "outputs": [
        {
          "output_type": "stream",
          "name": "stdout",
          "text": [
            "Suma de la matriz de confusion:  tensor(10000.)\n"
          ]
        },
        {
          "output_type": "display_data",
          "data": {
            "text/plain": [
              "<Figure size 640x480 with 2 Axes>"
            ],
            "image/png": "[encoded data removed]"
          },
          "metadata": {}
        },
        {
          "output_type": "display_data",
          "data": {
            "text/plain": [
              "<Figure size 640x480 with 0 Axes>"
            ]
          },
          "metadata": {}
        }
      ]
    },
    {
      "cell_type": "markdown",
      "source": [
        "# **Grafica de las 3 redes.**"
      ],
      "metadata": {
        "id": "3VnagmH70Sd-"
      }
    },
    {
      "cell_type": "code",
      "source": [
        "#Graficar las 3 redes\n",
        "window_size = 400\n",
        "numbers_series = pd.Series(red01)\n",
        "\n",
        "windows = numbers_series.rolling(window_size)\n",
        "moving_averages = windows.mean()\n",
        "moving_averages_list = moving_averages.tolist()\n",
        "\n",
        "final_list = moving_averages_list[window_size - 1:]\n",
        "\n",
        "numbers_series = pd.Series(red02)\n",
        "windows = numbers_series.rolling(window_size)\n",
        "moving_averages = windows.mean()\n",
        "moving_averages_list = moving_averages.tolist()\n",
        "\n",
        "final_list2 = moving_averages_list[window_size -1:]\n",
        "\n",
        "numbers_series = pd.Series(red03)\n",
        "windows = numbers_series.rolling(window_size)\n",
        "moving_averages = windows.mean()\n",
        "moving_averages_list = moving_averages.tolist()\n",
        "final_list3 = moving_averages_list[window_size -1:]\n",
        "\n",
        "plt.plot(final_list,label=\"Modelo 1\")\n",
        "plt.plot(final_list2,label=\"Modelo 2\")\n",
        "plt.plot(final_list3,label=\"Modelo 3\")\n",
        "plt.legend()\n",
        "plt.show()"
      ],
      "metadata": {
        "id": "5u7K1D8o0WD9",
        "colab": {
          "base_uri": "https://localhost:8080/",
          "height": 430
        },
        "outputId": "0459860e-cf76-4b6f-b919-1bb443ec1b08"
      },
      "execution_count": null,
      "outputs": [
        {
          "output_type": "display_data",
          "data": {
            "text/plain": [
              "<Figure size 640x480 with 1 Axes>"
            ],
            "image/png": "[encoded data removed]"
          },
          "metadata": {}
        }
      ]
    }
  ]
}